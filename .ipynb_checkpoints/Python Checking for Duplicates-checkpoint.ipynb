{
 "cells": [
  {
   "cell_type": "code",
   "execution_count": 9,
   "metadata": {},
   "outputs": [
    {
     "data": {
      "text/plain": [
       "3"
      ]
     },
     "execution_count": 9,
     "metadata": {},
     "output_type": "execute_result"
    }
   ],
   "source": [
    "def firstDuplicate(a):\n",
    "    aset = set()\n",
    "    for i in a:\n",
    "        if i in aset:\n",
    "            return i\n",
    "        else:   \n",
    "            aset.add(i)\n",
    "    return -1\n",
    "    \n",
    "firstDuplicate([2, 3, 3, 1, 5, 2])\n",
    "#firstDuplicate( [1, 2, 3, 4, 5] )"
   ]
  },
  {
   "cell_type": "code",
   "execution_count": 14,
   "metadata": {},
   "outputs": [
    {
     "name": "stdout",
     "output_type": "stream",
     "text": [
      "a\n",
      "c\n",
      "b\n",
      "d\n"
     ]
    }
   ],
   "source": [
    "def firstNotRepeatingCharacter(s):\n",
    "    sset = set(s)\n",
    "    for i in sset:\n",
    "        s.\n",
    "        print i\n",
    "    \n",
    "s = \"abaacbad\"\n",
    "firstNotRepeatingCharacter(s)\n",
    "#print set(s)"
   ]
  },
  {
   "cell_type": "code",
   "execution_count": null,
   "metadata": {
    "collapsed": true
   },
   "outputs": [],
   "source": []
  }
 ],
 "metadata": {
  "kernelspec": {
   "display_name": "Python 2",
   "language": "python",
   "name": "python2"
  },
  "language_info": {
   "codemirror_mode": {
    "name": "ipython",
    "version": 2
   },
   "file_extension": ".py",
   "mimetype": "text/x-python",
   "name": "python",
   "nbconvert_exporter": "python",
   "pygments_lexer": "ipython2",
   "version": "2.7.13"
  }
 },
 "nbformat": 4,
 "nbformat_minor": 2
}
