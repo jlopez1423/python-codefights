{
 "cells": [
  {
   "cell_type": "code",
   "execution_count": 1,
   "metadata": {},
   "outputs": [
    {
     "data": {
      "text/plain": [
       "3"
      ]
     },
     "execution_count": 1,
     "metadata": {},
     "output_type": "execute_result"
    }
   ],
   "source": [
    "def firstDuplicate(a):\n",
    "    aset = set()\n",
    "    for i in a:\n",
    "        if i in aset:\n",
    "            return i\n",
    "        else:   \n",
    "            aset.add(i)\n",
    "    return -1\n",
    "    \n",
    "firstDuplicate([2, 3, 3, 1, 5, 2])\n",
    "#firstDuplicate( [1, 2, 3, 4, 5] )"
   ]
  },
  {
   "cell_type": "code",
   "execution_count": 2,
   "metadata": {},
   "outputs": [
    {
     "data": {
      "text/plain": [
       "'d'"
      ]
     },
     "execution_count": 2,
     "metadata": {},
     "output_type": "execute_result"
    }
   ],
   "source": [
    "''' My Method, takes too long to run.\n",
    "def firstNotRepeatingCharacter(s):\n",
    "    for i in s:\n",
    "        howmany = s.count(i)\n",
    "        if( howmany == 1 ):\n",
    "            return i\n",
    "    return '_'\n",
    "s = \"xdnxxlvupzuwgigeqjggosgljuhliybkjpibyatofcjbfxwtalc\"\n",
    "firstNotRepeatingCharacter(s)\n",
    "'''\n",
    "\n",
    "def firstNotRepeatingCharacter(s):\n",
    "  order = []\n",
    "  counts = {}\n",
    "  for x in s:\n",
    "    if x in counts:\n",
    "      counts[x] += 1\n",
    "    else:\n",
    "      counts[x] = 1 \n",
    "      order.append(x)\n",
    "  for x in order:\n",
    "    if counts[x] == 1:\n",
    "      return x\n",
    "  return '_'\n",
    "\n",
    "s = \"xdnxxlvupzuwgigeqjggosgljuhliybkjpibyatofcjbfxwtalc\"\n",
    "firstNotRepeatingCharacter(s)\n",
    "#print set(s)"
   ]
  },
  {
   "cell_type": "code",
   "execution_count": 20,
   "metadata": {},
   "outputs": [
    {
     "data": {
      "text/plain": [
       "[[7, 4, 1], [8, 5, 2], [9, 6, 3]]"
      ]
     },
     "execution_count": 20,
     "metadata": {},
     "output_type": "execute_result"
    }
   ],
   "source": [
    "'''You are given an n x n 2D matrix that represents an image. Rotate the image by 90 degrees \n",
    "    Example: a = [[1, 2, 3],\n",
    "     [4, 5, 6],\n",
    "     [7, 8, 9]]\n",
    "     \n",
    "     Output: rotateImage(a) =\n",
    "    [[7, 4, 1],\n",
    "     [8, 5, 2],\n",
    "     [9, 6, 3]]\n",
    "'''\n",
    "def rotateImage(a):\n",
    "\n",
    "    a = list(zip(*a))    \n",
    "    a = [list(l[::-1]) for l in a]\n",
    "    \n",
    "    return a\n",
    "a = [[1, 2, 3],\n",
    "    [4, 5, 6],\n",
    "   [7, 8, 9]]\n",
    "rotateImage(a)"
   ]
  },
  {
   "cell_type": "code",
   "execution_count": null,
   "metadata": {
    "collapsed": true
   },
   "outputs": [],
   "source": []
  },
  {
   "cell_type": "code",
   "execution_count": null,
   "metadata": {
    "collapsed": true
   },
   "outputs": [],
   "source": []
  }
 ],
 "metadata": {
  "kernelspec": {
   "display_name": "Python 2",
   "language": "python",
   "name": "python2"
  },
  "language_info": {
   "codemirror_mode": {
    "name": "ipython",
    "version": 2
   },
   "file_extension": ".py",
   "mimetype": "text/x-python",
   "name": "python",
   "nbconvert_exporter": "python",
   "pygments_lexer": "ipython2",
   "version": "2.7.13"
  }
 },
 "nbformat": 4,
 "nbformat_minor": 2
}
